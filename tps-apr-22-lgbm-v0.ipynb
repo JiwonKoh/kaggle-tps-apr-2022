{
 "cells": [
  {
   "cell_type": "code",
   "execution_count": 1,
   "id": "eb2d684d",
   "metadata": {
    "_cell_guid": "b1076dfc-b9ad-4769-8c92-a6c4dae69d19",
    "_uuid": "8f2839f25d086af736a60e9eeb907d3b93b6e0e5",
    "execution": {
     "iopub.execute_input": "2022-04-27T08:12:36.411951Z",
     "iopub.status.busy": "2022-04-27T08:12:36.411249Z",
     "iopub.status.idle": "2022-04-27T08:12:42.473949Z",
     "shell.execute_reply": "2022-04-27T08:12:42.473287Z",
     "shell.execute_reply.started": "2022-04-27T07:55:35.121113Z"
    },
    "papermill": {
     "duration": 6.081844,
     "end_time": "2022-04-27T08:12:42.474102",
     "exception": false,
     "start_time": "2022-04-27T08:12:36.392258",
     "status": "completed"
    },
    "tags": []
   },
   "outputs": [],
   "source": [
    "import pandas as pd\n",
    "train = pd.read_csv('../input/tps-apr-22-fe-v2/train_tps_apr_22_fev2.csv')\n",
    "test = pd.read_csv('../input/tps-apr-22-fe-v2/test_tps_apr_22_fev2.csv')"
   ]
  },
  {
   "cell_type": "code",
   "execution_count": 2,
   "id": "8bcc59d5",
   "metadata": {
    "execution": {
     "iopub.execute_input": "2022-04-27T08:12:42.526957Z",
     "iopub.status.busy": "2022-04-27T08:12:42.524412Z",
     "iopub.status.idle": "2022-04-27T08:12:42.561568Z",
     "shell.execute_reply": "2022-04-27T08:12:42.561046Z",
     "shell.execute_reply.started": "2022-04-27T07:55:38.591903Z"
    },
    "papermill": {
     "duration": 0.079989,
     "end_time": "2022-04-27T08:12:42.561689",
     "exception": false,
     "start_time": "2022-04-27T08:12:42.481700",
     "status": "completed"
    },
    "tags": []
   },
   "outputs": [],
   "source": [
    "groups = train['subject']\n",
    "labels = train['state']\n",
    "train.drop(['sequence', 'subject', 'state'], axis=1, inplace=True)\n",
    "train.head()\n",
    "\n",
    "# LightGBMError: Do not support special JSON characters in feature name.\n",
    "import re\n",
    "train = train.rename(columns = lambda x:re.sub('[^A-Za-z0-9_]+', '', x))"
   ]
  },
  {
   "cell_type": "code",
   "execution_count": 3,
   "id": "48adf577",
   "metadata": {
    "execution": {
     "iopub.execute_input": "2022-04-27T08:12:42.579246Z",
     "iopub.status.busy": "2022-04-27T08:12:42.578383Z",
     "iopub.status.idle": "2022-04-27T08:12:42.580586Z",
     "shell.execute_reply": "2022-04-27T08:12:42.580084Z",
     "shell.execute_reply.started": "2022-04-27T07:55:38.647839Z"
    },
    "papermill": {
     "duration": 0.012873,
     "end_time": "2022-04-27T08:12:42.580695",
     "exception": false,
     "start_time": "2022-04-27T08:12:42.567822",
     "status": "completed"
    },
    "tags": []
   },
   "outputs": [],
   "source": [
    "params = {'n_estimators': 16500, \n",
    "          'learning_rate': 0.06946446628215118, \n",
    "          'reg_alpha': 0.010253222571604808, \n",
    "          'reg_lambda': 0.031961179402523146, \n",
    "          'colsample_bytree': 1.0, \n",
    "          'subsample': 0.6, \n",
    "          'max_depth': 100, \n",
    "          'num_leaves': 867, \n",
    "          'min_child_samples': 291, \n",
    "          'min_data_per_groups': 26}"
   ]
  },
  {
   "cell_type": "code",
   "execution_count": 4,
   "id": "085ed687",
   "metadata": {
    "execution": {
     "iopub.execute_input": "2022-04-27T08:12:42.599749Z",
     "iopub.status.busy": "2022-04-27T08:12:42.599159Z",
     "iopub.status.idle": "2022-04-27T08:17:23.384016Z",
     "shell.execute_reply": "2022-04-27T08:17:23.384857Z",
     "shell.execute_reply.started": "2022-04-27T07:55:38.65586Z"
    },
    "papermill": {
     "duration": 280.798469,
     "end_time": "2022-04-27T08:17:23.385070",
     "exception": false,
     "start_time": "2022-04-27T08:12:42.586601",
     "status": "completed"
    },
    "tags": []
   },
   "outputs": [
    {
     "data": {
      "text/html": [
       "<style type='text/css'>\n",
       ".datatable table.frame { margin-bottom: 0; }\n",
       ".datatable table.frame thead { border-bottom: none; }\n",
       ".datatable table.frame tr.coltypes td {  color: #FFFFFF;  line-height: 6px;  padding: 0 0.5em;}\n",
       ".datatable .bool    { background: #DDDD99; }\n",
       ".datatable .object  { background: #565656; }\n",
       ".datatable .int     { background: #5D9E5D; }\n",
       ".datatable .float   { background: #4040CC; }\n",
       ".datatable .str     { background: #CC4040; }\n",
       ".datatable .time    { background: #40CC40; }\n",
       ".datatable .row_index {  background: var(--jp-border-color3);  border-right: 1px solid var(--jp-border-color0);  color: var(--jp-ui-font-color3);  font-size: 9px;}\n",
       ".datatable .frame tbody td { text-align: left; }\n",
       ".datatable .frame tr.coltypes .row_index {  background: var(--jp-border-color0);}\n",
       ".datatable th:nth-child(2) { padding-left: 12px; }\n",
       ".datatable .hellipsis {  color: var(--jp-cell-editor-border-color);}\n",
       ".datatable .vellipsis {  background: var(--jp-layout-color0);  color: var(--jp-cell-editor-border-color);}\n",
       ".datatable .na {  color: var(--jp-cell-editor-border-color);  font-size: 80%;}\n",
       ".datatable .sp {  opacity: 0.25;}\n",
       ".datatable .footer { font-size: 9px; }\n",
       ".datatable .frame_dimensions {  background: var(--jp-border-color3);  border-top: 1px solid var(--jp-border-color0);  color: var(--jp-ui-font-color3);  display: inline-block;  opacity: 0.6;  padding: 1px 10px 1px 5px;}\n",
       "</style>\n"
      ],
      "text/plain": [
       "<IPython.core.display.HTML object>"
      ]
     },
     "metadata": {},
     "output_type": "display_data"
    },
    {
     "name": "stderr",
     "output_type": "stream",
     "text": [
      "/opt/conda/lib/python3.7/site-packages/lightgbm/sklearn.py:726: UserWarning: 'early_stopping_rounds' argument is deprecated and will be removed in a future release of LightGBM. Pass 'early_stopping()' callback via 'callbacks' argument instead.\n",
      "  _log_warning(\"'early_stopping_rounds' argument is deprecated and will be removed in a future release of LightGBM. \"\n",
      "/opt/conda/lib/python3.7/site-packages/lightgbm/sklearn.py:736: UserWarning: 'verbose' argument is deprecated and will be removed in a future release of LightGBM. Pass 'log_evaluation()' callback via 'callbacks' argument instead.\n",
      "  _log_warning(\"'verbose' argument is deprecated and will be removed in a future release of LightGBM. \"\n"
     ]
    },
    {
     "name": "stdout",
     "output_type": "stream",
     "text": [
      "[LightGBM] [Warning] Unknown parameter: min_data_per_groups\n",
      "kfold: 1 , Fold score: 0.9287844891871738\n",
      "[LightGBM] [Warning] Unknown parameter: min_data_per_groups\n"
     ]
    },
    {
     "name": "stderr",
     "output_type": "stream",
     "text": [
      "/opt/conda/lib/python3.7/site-packages/lightgbm/sklearn.py:726: UserWarning: 'early_stopping_rounds' argument is deprecated and will be removed in a future release of LightGBM. Pass 'early_stopping()' callback via 'callbacks' argument instead.\n",
      "  _log_warning(\"'early_stopping_rounds' argument is deprecated and will be removed in a future release of LightGBM. \"\n",
      "/opt/conda/lib/python3.7/site-packages/lightgbm/sklearn.py:736: UserWarning: 'verbose' argument is deprecated and will be removed in a future release of LightGBM. Pass 'log_evaluation()' callback via 'callbacks' argument instead.\n",
      "  _log_warning(\"'verbose' argument is deprecated and will be removed in a future release of LightGBM. \"\n"
     ]
    },
    {
     "name": "stdout",
     "output_type": "stream",
     "text": [
      "kfold: 2 , Fold score: 0.9278974457859919\n",
      "[LightGBM] [Warning] Unknown parameter: min_data_per_groups\n"
     ]
    },
    {
     "name": "stderr",
     "output_type": "stream",
     "text": [
      "/opt/conda/lib/python3.7/site-packages/lightgbm/sklearn.py:726: UserWarning: 'early_stopping_rounds' argument is deprecated and will be removed in a future release of LightGBM. Pass 'early_stopping()' callback via 'callbacks' argument instead.\n",
      "  _log_warning(\"'early_stopping_rounds' argument is deprecated and will be removed in a future release of LightGBM. \"\n",
      "/opt/conda/lib/python3.7/site-packages/lightgbm/sklearn.py:736: UserWarning: 'verbose' argument is deprecated and will be removed in a future release of LightGBM. Pass 'log_evaluation()' callback via 'callbacks' argument instead.\n",
      "  _log_warning(\"'verbose' argument is deprecated and will be removed in a future release of LightGBM. \"\n"
     ]
    },
    {
     "name": "stdout",
     "output_type": "stream",
     "text": [
      "kfold: 3 , Fold score: 0.9356581464658085\n",
      "[LightGBM] [Warning] Unknown parameter: min_data_per_groups\n"
     ]
    },
    {
     "name": "stderr",
     "output_type": "stream",
     "text": [
      "/opt/conda/lib/python3.7/site-packages/lightgbm/sklearn.py:726: UserWarning: 'early_stopping_rounds' argument is deprecated and will be removed in a future release of LightGBM. Pass 'early_stopping()' callback via 'callbacks' argument instead.\n",
      "  _log_warning(\"'early_stopping_rounds' argument is deprecated and will be removed in a future release of LightGBM. \"\n",
      "/opt/conda/lib/python3.7/site-packages/lightgbm/sklearn.py:736: UserWarning: 'verbose' argument is deprecated and will be removed in a future release of LightGBM. Pass 'log_evaluation()' callback via 'callbacks' argument instead.\n",
      "  _log_warning(\"'verbose' argument is deprecated and will be removed in a future release of LightGBM. \"\n"
     ]
    },
    {
     "name": "stdout",
     "output_type": "stream",
     "text": [
      "kfold: 4 , Fold score: 0.9296936028570211\n",
      "[LightGBM] [Warning] Unknown parameter: min_data_per_groups\n"
     ]
    },
    {
     "name": "stderr",
     "output_type": "stream",
     "text": [
      "/opt/conda/lib/python3.7/site-packages/lightgbm/sklearn.py:726: UserWarning: 'early_stopping_rounds' argument is deprecated and will be removed in a future release of LightGBM. Pass 'early_stopping()' callback via 'callbacks' argument instead.\n",
      "  _log_warning(\"'early_stopping_rounds' argument is deprecated and will be removed in a future release of LightGBM. \"\n",
      "/opt/conda/lib/python3.7/site-packages/lightgbm/sklearn.py:736: UserWarning: 'verbose' argument is deprecated and will be removed in a future release of LightGBM. Pass 'log_evaluation()' callback via 'callbacks' argument instead.\n",
      "  _log_warning(\"'verbose' argument is deprecated and will be removed in a future release of LightGBM. \"\n"
     ]
    },
    {
     "name": "stdout",
     "output_type": "stream",
     "text": [
      "kfold: 5 , Fold score: 0.9301350860903854\n",
      "cv score: 0.930433754077276\n"
     ]
    }
   ],
   "source": [
    "from sklearn.model_selection import GroupKFold\n",
    "from sklearn.metrics import roc_auc_score\n",
    "import lightgbm as lgbm\n",
    "\n",
    "kf = GroupKFold(n_splits=5)\n",
    "scores = []\n",
    "\n",
    "for fold_idx, (train_index, test_index) in enumerate(kf.split(train, labels, groups)):\n",
    "    X_train_group = train.iloc[train_index] \n",
    "    X_valid_group = train.iloc[test_index]\n",
    "    y_train_group = labels.iloc[train_index] \n",
    "    y_valid_group = labels.iloc[test_index]\n",
    "    \n",
    "    model = lgbm.LGBMClassifier(**params)\n",
    "    model.fit(X_train_group, y_train_group, eval_set = [(X_valid_group, y_valid_group)], \n",
    "                early_stopping_rounds=300, verbose=False)\n",
    "    fold_score = roc_auc_score(y_valid_group, model.predict_proba(X_valid_group)[:, 1])\n",
    "    scores.append(fold_score)\n",
    "    \n",
    "    print(f'kfold: {fold_idx + 1} , Fold score: {fold_score}')\n",
    "    \n",
    "print(f'cv score: {sum(scores) / 5}')"
   ]
  },
  {
   "cell_type": "code",
   "execution_count": 5,
   "id": "59ecfbde",
   "metadata": {
    "execution": {
     "iopub.execute_input": "2022-04-27T08:17:23.421528Z",
     "iopub.status.busy": "2022-04-27T08:17:23.412673Z",
     "iopub.status.idle": "2022-04-27T08:17:24.405050Z",
     "shell.execute_reply": "2022-04-27T08:17:24.405583Z",
     "shell.execute_reply.started": "2022-04-27T08:00:30.785688Z"
    },
    "papermill": {
     "duration": 1.009826,
     "end_time": "2022-04-27T08:17:24.405791",
     "exception": false,
     "start_time": "2022-04-27T08:17:23.395965",
     "status": "completed"
    },
    "tags": []
   },
   "outputs": [
    {
     "name": "stderr",
     "output_type": "stream",
     "text": [
      "/opt/conda/lib/python3.7/site-packages/ipykernel_launcher.py:5: SettingWithCopyWarning: \n",
      "A value is trying to be set on a copy of a slice from a DataFrame.\n",
      "Try using .loc[row_indexer,col_indexer] = value instead\n",
      "\n",
      "See the caveats in the documentation: https://pandas.pydata.org/pandas-docs/stable/user_guide/indexing.html#returning-a-view-versus-a-copy\n",
      "  \"\"\"\n"
     ]
    },
    {
     "data": {
      "text/html": [
       "<div>\n",
       "<style scoped>\n",
       "    .dataframe tbody tr th:only-of-type {\n",
       "        vertical-align: middle;\n",
       "    }\n",
       "\n",
       "    .dataframe tbody tr th {\n",
       "        vertical-align: top;\n",
       "    }\n",
       "\n",
       "    .dataframe thead th {\n",
       "        text-align: right;\n",
       "    }\n",
       "</style>\n",
       "<table border=\"1\" class=\"dataframe\">\n",
       "  <thead>\n",
       "    <tr style=\"text-align: right;\">\n",
       "      <th></th>\n",
       "      <th>sequence</th>\n",
       "      <th>state</th>\n",
       "    </tr>\n",
       "  </thead>\n",
       "  <tbody>\n",
       "    <tr>\n",
       "      <th>0</th>\n",
       "      <td>25968</td>\n",
       "      <td>0.984161</td>\n",
       "    </tr>\n",
       "    <tr>\n",
       "      <th>1</th>\n",
       "      <td>26059</td>\n",
       "      <td>0.603828</td>\n",
       "    </tr>\n",
       "    <tr>\n",
       "      <th>2</th>\n",
       "      <td>26176</td>\n",
       "      <td>0.904114</td>\n",
       "    </tr>\n",
       "    <tr>\n",
       "      <th>3</th>\n",
       "      <td>26249</td>\n",
       "      <td>0.995387</td>\n",
       "    </tr>\n",
       "    <tr>\n",
       "      <th>4</th>\n",
       "      <td>26258</td>\n",
       "      <td>0.977215</td>\n",
       "    </tr>\n",
       "  </tbody>\n",
       "</table>\n",
       "</div>"
      ],
      "text/plain": [
       "   sequence     state\n",
       "0     25968  0.984161\n",
       "1     26059  0.603828\n",
       "2     26176  0.904114\n",
       "3     26249  0.995387\n",
       "4     26258  0.977215"
      ]
     },
     "execution_count": 5,
     "metadata": {},
     "output_type": "execute_result"
    }
   ],
   "source": [
    "submission = test[['sequence']]\n",
    "predictions = pd.DataFrame(\n",
    "    [model.predict_proba(test.drop(['sequence', 'subject'], axis=1))[:, 1]]).T\n",
    "\n",
    "submission['state'] = predictions\n",
    "submission.to_csv('submission.csv', index=False)\n",
    "submission.head()"
   ]
  },
  {
   "cell_type": "code",
   "execution_count": null,
   "id": "d80c637a",
   "metadata": {
    "papermill": {
     "duration": 0.010522,
     "end_time": "2022-04-27T08:17:24.427652",
     "exception": false,
     "start_time": "2022-04-27T08:17:24.417130",
     "status": "completed"
    },
    "tags": []
   },
   "outputs": [],
   "source": []
  }
 ],
 "metadata": {
  "kernelspec": {
   "display_name": "Python 3",
   "language": "python",
   "name": "python3"
  },
  "language_info": {
   "codemirror_mode": {
    "name": "ipython",
    "version": 3
   },
   "file_extension": ".py",
   "mimetype": "text/x-python",
   "name": "python",
   "nbconvert_exporter": "python",
   "pygments_lexer": "ipython3",
   "version": "3.7.12"
  },
  "papermill": {
   "default_parameters": {},
   "duration": 297.450132,
   "end_time": "2022-04-27T08:17:25.450586",
   "environment_variables": {},
   "exception": null,
   "input_path": "__notebook__.ipynb",
   "output_path": "__notebook__.ipynb",
   "parameters": {},
   "start_time": "2022-04-27T08:12:28.000454",
   "version": "2.3.3"
  }
 },
 "nbformat": 4,
 "nbformat_minor": 5
}
