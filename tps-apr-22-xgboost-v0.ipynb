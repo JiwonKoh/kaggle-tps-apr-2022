{
 "cells": [
  {
   "cell_type": "code",
   "execution_count": 1,
   "id": "1ae8852b",
   "metadata": {
    "_cell_guid": "b1076dfc-b9ad-4769-8c92-a6c4dae69d19",
    "_uuid": "8f2839f25d086af736a60e9eeb907d3b93b6e0e5",
    "execution": {
     "iopub.execute_input": "2022-04-27T08:28:19.742553Z",
     "iopub.status.busy": "2022-04-27T08:28:19.736488Z",
     "iopub.status.idle": "2022-04-27T08:28:25.790308Z",
     "shell.execute_reply": "2022-04-27T08:28:25.789002Z",
     "shell.execute_reply.started": "2022-04-27T07:41:47.079131Z"
    },
    "papermill": {
     "duration": 6.065431,
     "end_time": "2022-04-27T08:28:25.790493",
     "exception": false,
     "start_time": "2022-04-27T08:28:19.725062",
     "status": "completed"
    },
    "tags": []
   },
   "outputs": [],
   "source": [
    "import pandas as pd\n",
    "train = pd.read_csv('../input/tps-apr-22-fe-v2/train_tps_apr_22_fev2.csv')\n",
    "test = pd.read_csv('../input/tps-apr-22-fe-v2/test_tps_apr_22_fev2.csv')"
   ]
  },
  {
   "cell_type": "code",
   "execution_count": 2,
   "id": "de83ff47",
   "metadata": {
    "execution": {
     "iopub.execute_input": "2022-04-27T08:28:25.846810Z",
     "iopub.status.busy": "2022-04-27T08:28:25.840749Z",
     "iopub.status.idle": "2022-04-27T08:28:25.871282Z",
     "shell.execute_reply": "2022-04-27T08:28:25.871707Z",
     "shell.execute_reply.started": "2022-04-27T07:41:52.474657Z"
    },
    "papermill": {
     "duration": 0.074159,
     "end_time": "2022-04-27T08:28:25.871848",
     "exception": false,
     "start_time": "2022-04-27T08:28:25.797689",
     "status": "completed"
    },
    "tags": []
   },
   "outputs": [
    {
     "data": {
      "text/html": [
       "<div>\n",
       "<style scoped>\n",
       "    .dataframe tbody tr th:only-of-type {\n",
       "        vertical-align: middle;\n",
       "    }\n",
       "\n",
       "    .dataframe tbody tr th {\n",
       "        vertical-align: top;\n",
       "    }\n",
       "\n",
       "    .dataframe thead th {\n",
       "        text-align: right;\n",
       "    }\n",
       "</style>\n",
       "<table border=\"1\" class=\"dataframe\">\n",
       "  <thead>\n",
       "    <tr style=\"text-align: right;\">\n",
       "      <th></th>\n",
       "      <th>Unnamed: 0</th>\n",
       "      <th>sensor_00_freq_0</th>\n",
       "      <th>sensor_00_freq_1</th>\n",
       "      <th>sensor_00_freq_2</th>\n",
       "      <th>sensor_00_freq_3</th>\n",
       "      <th>sensor_00_freq_4</th>\n",
       "      <th>sensor_00_freq_5</th>\n",
       "      <th>sensor_00_freq_6</th>\n",
       "      <th>sensor_00_freq_7</th>\n",
       "      <th>sensor_00_freq_8</th>\n",
       "      <th>...</th>\n",
       "      <th>sensor_12_freq_22</th>\n",
       "      <th>sensor_12_freq_23</th>\n",
       "      <th>sensor_12_freq_24</th>\n",
       "      <th>sensor_12_freq_25</th>\n",
       "      <th>sensor_12_freq_26</th>\n",
       "      <th>sensor_12_freq_27</th>\n",
       "      <th>sensor_12_freq_28</th>\n",
       "      <th>sensor_12_freq_29</th>\n",
       "      <th>sensor_12_freq_30</th>\n",
       "      <th>n_sequence_percentile</th>\n",
       "    </tr>\n",
       "  </thead>\n",
       "  <tbody>\n",
       "    <tr>\n",
       "      <th>0</th>\n",
       "      <td>0</td>\n",
       "      <td>2.504637</td>\n",
       "      <td>2.595997</td>\n",
       "      <td>2.948970</td>\n",
       "      <td>2.906888</td>\n",
       "      <td>2.510662</td>\n",
       "      <td>3.610021</td>\n",
       "      <td>6.967675</td>\n",
       "      <td>5.406874</td>\n",
       "      <td>5.151776</td>\n",
       "      <td>...</td>\n",
       "      <td>25.495893</td>\n",
       "      <td>45.878652</td>\n",
       "      <td>32.379605</td>\n",
       "      <td>32.416223</td>\n",
       "      <td>41.594143</td>\n",
       "      <td>34.651699</td>\n",
       "      <td>39.046842</td>\n",
       "      <td>31.815038</td>\n",
       "      <td>27.425405</td>\n",
       "      <td>98.065476</td>\n",
       "    </tr>\n",
       "    <tr>\n",
       "      <th>1</th>\n",
       "      <td>1</td>\n",
       "      <td>2.015456</td>\n",
       "      <td>2.296530</td>\n",
       "      <td>1.811023</td>\n",
       "      <td>2.609596</td>\n",
       "      <td>5.933611</td>\n",
       "      <td>5.177809</td>\n",
       "      <td>3.282827</td>\n",
       "      <td>6.652460</td>\n",
       "      <td>7.566777</td>\n",
       "      <td>...</td>\n",
       "      <td>44.968867</td>\n",
       "      <td>16.436525</td>\n",
       "      <td>22.797195</td>\n",
       "      <td>37.939752</td>\n",
       "      <td>20.025530</td>\n",
       "      <td>20.446737</td>\n",
       "      <td>11.834383</td>\n",
       "      <td>0.510406</td>\n",
       "      <td>15.833760</td>\n",
       "      <td>98.065476</td>\n",
       "    </tr>\n",
       "    <tr>\n",
       "      <th>2</th>\n",
       "      <td>2</td>\n",
       "      <td>9.068006</td>\n",
       "      <td>13.507249</td>\n",
       "      <td>26.911191</td>\n",
       "      <td>45.104476</td>\n",
       "      <td>66.001563</td>\n",
       "      <td>87.674315</td>\n",
       "      <td>101.652947</td>\n",
       "      <td>109.029241</td>\n",
       "      <td>97.340656</td>\n",
       "      <td>...</td>\n",
       "      <td>129.840977</td>\n",
       "      <td>100.342807</td>\n",
       "      <td>113.971795</td>\n",
       "      <td>138.361735</td>\n",
       "      <td>59.606223</td>\n",
       "      <td>100.369674</td>\n",
       "      <td>19.717507</td>\n",
       "      <td>61.806974</td>\n",
       "      <td>31.247656</td>\n",
       "      <td>98.065476</td>\n",
       "    </tr>\n",
       "    <tr>\n",
       "      <th>3</th>\n",
       "      <td>3</td>\n",
       "      <td>0.209428</td>\n",
       "      <td>0.663546</td>\n",
       "      <td>0.330469</td>\n",
       "      <td>0.387669</td>\n",
       "      <td>0.579110</td>\n",
       "      <td>3.711075</td>\n",
       "      <td>3.386412</td>\n",
       "      <td>8.453457</td>\n",
       "      <td>4.531713</td>\n",
       "      <td>...</td>\n",
       "      <td>66.573015</td>\n",
       "      <td>23.868128</td>\n",
       "      <td>36.819744</td>\n",
       "      <td>2.430822</td>\n",
       "      <td>18.272264</td>\n",
       "      <td>9.867578</td>\n",
       "      <td>24.285402</td>\n",
       "      <td>26.592332</td>\n",
       "      <td>23.478687</td>\n",
       "      <td>98.065476</td>\n",
       "    </tr>\n",
       "    <tr>\n",
       "      <th>4</th>\n",
       "      <td>4</td>\n",
       "      <td>0.863988</td>\n",
       "      <td>0.508295</td>\n",
       "      <td>1.358652</td>\n",
       "      <td>0.830933</td>\n",
       "      <td>3.506715</td>\n",
       "      <td>2.506207</td>\n",
       "      <td>2.704869</td>\n",
       "      <td>5.660748</td>\n",
       "      <td>6.327061</td>\n",
       "      <td>...</td>\n",
       "      <td>56.084252</td>\n",
       "      <td>37.664327</td>\n",
       "      <td>58.851105</td>\n",
       "      <td>49.871422</td>\n",
       "      <td>31.984101</td>\n",
       "      <td>47.527202</td>\n",
       "      <td>20.673605</td>\n",
       "      <td>38.302775</td>\n",
       "      <td>42.216539</td>\n",
       "      <td>98.065476</td>\n",
       "    </tr>\n",
       "  </tbody>\n",
       "</table>\n",
       "<p>5 rows × 405 columns</p>\n",
       "</div>"
      ],
      "text/plain": [
       "   Unnamed: 0  sensor_00_freq_0  sensor_00_freq_1  sensor_00_freq_2  \\\n",
       "0           0          2.504637          2.595997          2.948970   \n",
       "1           1          2.015456          2.296530          1.811023   \n",
       "2           2          9.068006         13.507249         26.911191   \n",
       "3           3          0.209428          0.663546          0.330469   \n",
       "4           4          0.863988          0.508295          1.358652   \n",
       "\n",
       "   sensor_00_freq_3  sensor_00_freq_4  sensor_00_freq_5  sensor_00_freq_6  \\\n",
       "0          2.906888          2.510662          3.610021          6.967675   \n",
       "1          2.609596          5.933611          5.177809          3.282827   \n",
       "2         45.104476         66.001563         87.674315        101.652947   \n",
       "3          0.387669          0.579110          3.711075          3.386412   \n",
       "4          0.830933          3.506715          2.506207          2.704869   \n",
       "\n",
       "   sensor_00_freq_7  sensor_00_freq_8  ...  sensor_12_freq_22  \\\n",
       "0          5.406874          5.151776  ...          25.495893   \n",
       "1          6.652460          7.566777  ...          44.968867   \n",
       "2        109.029241         97.340656  ...         129.840977   \n",
       "3          8.453457          4.531713  ...          66.573015   \n",
       "4          5.660748          6.327061  ...          56.084252   \n",
       "\n",
       "   sensor_12_freq_23  sensor_12_freq_24  sensor_12_freq_25  sensor_12_freq_26  \\\n",
       "0          45.878652          32.379605          32.416223          41.594143   \n",
       "1          16.436525          22.797195          37.939752          20.025530   \n",
       "2         100.342807         113.971795         138.361735          59.606223   \n",
       "3          23.868128          36.819744           2.430822          18.272264   \n",
       "4          37.664327          58.851105          49.871422          31.984101   \n",
       "\n",
       "   sensor_12_freq_27  sensor_12_freq_28  sensor_12_freq_29  sensor_12_freq_30  \\\n",
       "0          34.651699          39.046842          31.815038          27.425405   \n",
       "1          20.446737          11.834383           0.510406          15.833760   \n",
       "2         100.369674          19.717507          61.806974          31.247656   \n",
       "3           9.867578          24.285402          26.592332          23.478687   \n",
       "4          47.527202          20.673605          38.302775          42.216539   \n",
       "\n",
       "   n_sequence_percentile  \n",
       "0              98.065476  \n",
       "1              98.065476  \n",
       "2              98.065476  \n",
       "3              98.065476  \n",
       "4              98.065476  \n",
       "\n",
       "[5 rows x 405 columns]"
      ]
     },
     "execution_count": 2,
     "metadata": {},
     "output_type": "execute_result"
    }
   ],
   "source": [
    "groups = train['subject']\n",
    "labels = train['state']\n",
    "train.drop(['sequence', 'subject', 'state'], axis=1, inplace=True)\n",
    "train.head()"
   ]
  },
  {
   "cell_type": "code",
   "execution_count": 3,
   "id": "ec761225",
   "metadata": {
    "execution": {
     "iopub.execute_input": "2022-04-27T08:28:25.891088Z",
     "iopub.status.busy": "2022-04-27T08:28:25.890573Z",
     "iopub.status.idle": "2022-04-27T08:28:25.894734Z",
     "shell.execute_reply": "2022-04-27T08:28:25.894227Z",
     "shell.execute_reply.started": "2022-04-27T07:41:52.5819Z"
    },
    "papermill": {
     "duration": 0.015604,
     "end_time": "2022-04-27T08:28:25.894841",
     "exception": false,
     "start_time": "2022-04-27T08:28:25.879237",
     "status": "completed"
    },
    "tags": []
   },
   "outputs": [],
   "source": [
    "params = {'max_depth': 8, \n",
    "          'n_estimators': 3000, \n",
    "          'learning_rate': 0.08530569310433453, \n",
    "          'subsample': 0.2, \n",
    "          'colsample_bytree': 0.9, \n",
    "          'colsample_bylevel': 0.30000000000000004, \n",
    "          'min_child_weight': 0.467428476013027, \n",
    "          'reg_lambda': 0.2279498019218528, \n",
    "          'reg_alpha': 171.24877820234045, \n",
    "          'gamma': 1.2435329218902063}"
   ]
  },
  {
   "cell_type": "code",
   "execution_count": 4,
   "id": "42545653",
   "metadata": {
    "execution": {
     "iopub.execute_input": "2022-04-27T08:28:25.916493Z",
     "iopub.status.busy": "2022-04-27T08:28:25.915827Z",
     "iopub.status.idle": "2022-04-27T08:28:49.880025Z",
     "shell.execute_reply": "2022-04-27T08:28:49.880840Z",
     "shell.execute_reply.started": "2022-04-27T07:47:33.192806Z"
    },
    "papermill": {
     "duration": 23.979591,
     "end_time": "2022-04-27T08:28:49.881069",
     "exception": false,
     "start_time": "2022-04-27T08:28:25.901478",
     "status": "completed"
    },
    "tags": []
   },
   "outputs": [
    {
     "name": "stderr",
     "output_type": "stream",
     "text": [
      "/opt/conda/lib/python3.7/site-packages/xgboost/sklearn.py:1224: UserWarning: The use of label encoder in XGBClassifier is deprecated and will be removed in a future release. To remove this warning, do the following: 1) Pass option use_label_encoder=False when constructing XGBClassifier object; and 2) Encode your labels (y) as integers starting with 0, i.e. 0, 1, 2, ..., [num_class - 1].\n",
      "  warnings.warn(label_encoder_deprecation_msg, UserWarning)\n"
     ]
    },
    {
     "name": "stdout",
     "output_type": "stream",
     "text": [
      "[08:28:30] WARNING: ../src/learner.cc:1115: Starting in XGBoost 1.3.0, the default evaluation metric used with the objective 'binary:logistic' was changed from 'error' to 'logloss'. Explicitly set eval_metric if you'd like to restore the old behavior.\n",
      "kfold: 1 , Fold score: 0.8620598556313128\n"
     ]
    },
    {
     "name": "stderr",
     "output_type": "stream",
     "text": [
      "/opt/conda/lib/python3.7/site-packages/xgboost/sklearn.py:1224: UserWarning: The use of label encoder in XGBClassifier is deprecated and will be removed in a future release. To remove this warning, do the following: 1) Pass option use_label_encoder=False when constructing XGBClassifier object; and 2) Encode your labels (y) as integers starting with 0, i.e. 0, 1, 2, ..., [num_class - 1].\n",
      "  warnings.warn(label_encoder_deprecation_msg, UserWarning)\n"
     ]
    },
    {
     "name": "stdout",
     "output_type": "stream",
     "text": [
      "[08:28:37] WARNING: ../src/learner.cc:1115: Starting in XGBoost 1.3.0, the default evaluation metric used with the objective 'binary:logistic' was changed from 'error' to 'logloss'. Explicitly set eval_metric if you'd like to restore the old behavior.\n",
      "kfold: 2 , Fold score: 0.8712482571420097\n"
     ]
    },
    {
     "name": "stderr",
     "output_type": "stream",
     "text": [
      "/opt/conda/lib/python3.7/site-packages/xgboost/sklearn.py:1224: UserWarning: The use of label encoder in XGBClassifier is deprecated and will be removed in a future release. To remove this warning, do the following: 1) Pass option use_label_encoder=False when constructing XGBClassifier object; and 2) Encode your labels (y) as integers starting with 0, i.e. 0, 1, 2, ..., [num_class - 1].\n",
      "  warnings.warn(label_encoder_deprecation_msg, UserWarning)\n"
     ]
    },
    {
     "name": "stdout",
     "output_type": "stream",
     "text": [
      "[08:28:40] WARNING: ../src/learner.cc:1115: Starting in XGBoost 1.3.0, the default evaluation metric used with the objective 'binary:logistic' was changed from 'error' to 'logloss'. Explicitly set eval_metric if you'd like to restore the old behavior.\n",
      "kfold: 3 , Fold score: 0.883911169299923\n"
     ]
    },
    {
     "name": "stderr",
     "output_type": "stream",
     "text": [
      "/opt/conda/lib/python3.7/site-packages/xgboost/sklearn.py:1224: UserWarning: The use of label encoder in XGBClassifier is deprecated and will be removed in a future release. To remove this warning, do the following: 1) Pass option use_label_encoder=False when constructing XGBClassifier object; and 2) Encode your labels (y) as integers starting with 0, i.e. 0, 1, 2, ..., [num_class - 1].\n",
      "  warnings.warn(label_encoder_deprecation_msg, UserWarning)\n"
     ]
    },
    {
     "name": "stdout",
     "output_type": "stream",
     "text": [
      "[08:28:44] WARNING: ../src/learner.cc:1115: Starting in XGBoost 1.3.0, the default evaluation metric used with the objective 'binary:logistic' was changed from 'error' to 'logloss'. Explicitly set eval_metric if you'd like to restore the old behavior.\n",
      "kfold: 4 , Fold score: 0.8654722237930633\n"
     ]
    },
    {
     "name": "stderr",
     "output_type": "stream",
     "text": [
      "/opt/conda/lib/python3.7/site-packages/xgboost/sklearn.py:1224: UserWarning: The use of label encoder in XGBClassifier is deprecated and will be removed in a future release. To remove this warning, do the following: 1) Pass option use_label_encoder=False when constructing XGBClassifier object; and 2) Encode your labels (y) as integers starting with 0, i.e. 0, 1, 2, ..., [num_class - 1].\n",
      "  warnings.warn(label_encoder_deprecation_msg, UserWarning)\n"
     ]
    },
    {
     "name": "stdout",
     "output_type": "stream",
     "text": [
      "[08:28:47] WARNING: ../src/learner.cc:1115: Starting in XGBoost 1.3.0, the default evaluation metric used with the objective 'binary:logistic' was changed from 'error' to 'logloss'. Explicitly set eval_metric if you'd like to restore the old behavior.\n",
      "kfold: 5 , Fold score: 0.8750796927034511\n",
      "cv score: 0.8715542397139521\n"
     ]
    }
   ],
   "source": [
    "from sklearn.model_selection import GroupKFold\n",
    "from sklearn.metrics import roc_auc_score\n",
    "import xgboost as xgb\n",
    "\n",
    "kf = GroupKFold(n_splits=5)\n",
    "scores = []\n",
    "\n",
    "for fold_idx, (train_index, test_index) in enumerate(kf.split(train, labels, groups)):\n",
    "    X_train_group = train.iloc[train_index] \n",
    "    X_valid_group = train.iloc[test_index]\n",
    "    y_train_group = labels.iloc[train_index] \n",
    "    y_valid_group = labels.iloc[test_index]\n",
    "    \n",
    "    model = xgb.XGBClassifier(**params, tree_method='gpu_hist', random_state=127)\n",
    "    model.fit(X_train_group, y_train_group, eval_set = [(X_valid_group, y_valid_group)], \n",
    "                early_stopping_rounds=300, verbose=False)\n",
    "    fold_score = roc_auc_score(y_valid_group, model.predict_proba(X_valid_group)[:, 1])\n",
    "    scores.append(fold_score)\n",
    "    \n",
    "    print(f'kfold: {fold_idx + 1} , Fold score: {fold_score}')\n",
    "    \n",
    "print(f'cv score: {sum(scores) / 5}')"
   ]
  },
  {
   "cell_type": "code",
   "execution_count": 5,
   "id": "60fcef76",
   "metadata": {
    "execution": {
     "iopub.execute_input": "2022-04-27T08:28:49.928834Z",
     "iopub.status.busy": "2022-04-27T08:28:49.927940Z",
     "iopub.status.idle": "2022-04-27T08:28:50.542521Z",
     "shell.execute_reply": "2022-04-27T08:28:50.542001Z",
     "shell.execute_reply.started": "2022-04-27T07:49:10.285809Z"
    },
    "papermill": {
     "duration": 0.647028,
     "end_time": "2022-04-27T08:28:50.542651",
     "exception": false,
     "start_time": "2022-04-27T08:28:49.895623",
     "status": "completed"
    },
    "tags": []
   },
   "outputs": [
    {
     "name": "stderr",
     "output_type": "stream",
     "text": [
      "/opt/conda/lib/python3.7/site-packages/ipykernel_launcher.py:5: SettingWithCopyWarning: \n",
      "A value is trying to be set on a copy of a slice from a DataFrame.\n",
      "Try using .loc[row_indexer,col_indexer] = value instead\n",
      "\n",
      "See the caveats in the documentation: https://pandas.pydata.org/pandas-docs/stable/user_guide/indexing.html#returning-a-view-versus-a-copy\n",
      "  \"\"\"\n"
     ]
    },
    {
     "data": {
      "text/html": [
       "<div>\n",
       "<style scoped>\n",
       "    .dataframe tbody tr th:only-of-type {\n",
       "        vertical-align: middle;\n",
       "    }\n",
       "\n",
       "    .dataframe tbody tr th {\n",
       "        vertical-align: top;\n",
       "    }\n",
       "\n",
       "    .dataframe thead th {\n",
       "        text-align: right;\n",
       "    }\n",
       "</style>\n",
       "<table border=\"1\" class=\"dataframe\">\n",
       "  <thead>\n",
       "    <tr style=\"text-align: right;\">\n",
       "      <th></th>\n",
       "      <th>sequence</th>\n",
       "      <th>state</th>\n",
       "    </tr>\n",
       "  </thead>\n",
       "  <tbody>\n",
       "    <tr>\n",
       "      <th>0</th>\n",
       "      <td>25968</td>\n",
       "      <td>0.727329</td>\n",
       "    </tr>\n",
       "    <tr>\n",
       "      <th>1</th>\n",
       "      <td>26059</td>\n",
       "      <td>0.628526</td>\n",
       "    </tr>\n",
       "    <tr>\n",
       "      <th>2</th>\n",
       "      <td>26176</td>\n",
       "      <td>0.715106</td>\n",
       "    </tr>\n",
       "    <tr>\n",
       "      <th>3</th>\n",
       "      <td>26249</td>\n",
       "      <td>0.714696</td>\n",
       "    </tr>\n",
       "    <tr>\n",
       "      <th>4</th>\n",
       "      <td>26258</td>\n",
       "      <td>0.766382</td>\n",
       "    </tr>\n",
       "  </tbody>\n",
       "</table>\n",
       "</div>"
      ],
      "text/plain": [
       "   sequence     state\n",
       "0     25968  0.727329\n",
       "1     26059  0.628526\n",
       "2     26176  0.715106\n",
       "3     26249  0.714696\n",
       "4     26258  0.766382"
      ]
     },
     "execution_count": 5,
     "metadata": {},
     "output_type": "execute_result"
    }
   ],
   "source": [
    "submission = test[['sequence']]\n",
    "predictions = pd.DataFrame(\n",
    "    [model.predict_proba(test.drop(['sequence', 'subject'], axis=1))[:, 1]]).T\n",
    "\n",
    "submission['state'] = predictions\n",
    "submission.to_csv('tps_apr_22_xgboost_v0.csv', index=False)\n",
    "submission.head()"
   ]
  },
  {
   "cell_type": "code",
   "execution_count": null,
   "id": "92176a09",
   "metadata": {
    "papermill": {
     "duration": 0.012012,
     "end_time": "2022-04-27T08:28:50.567638",
     "exception": false,
     "start_time": "2022-04-27T08:28:50.555626",
     "status": "completed"
    },
    "tags": []
   },
   "outputs": [],
   "source": []
  }
 ],
 "metadata": {
  "kernelspec": {
   "display_name": "Python 3",
   "language": "python",
   "name": "python3"
  },
  "language_info": {
   "codemirror_mode": {
    "name": "ipython",
    "version": 3
   },
   "file_extension": ".py",
   "mimetype": "text/x-python",
   "name": "python",
   "nbconvert_exporter": "python",
   "pygments_lexer": "ipython3",
   "version": "3.7.12"
  },
  "papermill": {
   "default_parameters": {},
   "duration": 40.246376,
   "end_time": "2022-04-27T08:28:51.692225",
   "environment_variables": {},
   "exception": null,
   "input_path": "__notebook__.ipynb",
   "output_path": "__notebook__.ipynb",
   "parameters": {},
   "start_time": "2022-04-27T08:28:11.445849",
   "version": "2.3.3"
  }
 },
 "nbformat": 4,
 "nbformat_minor": 5
}
