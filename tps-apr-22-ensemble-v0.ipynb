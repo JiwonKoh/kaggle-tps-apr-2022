{
 "cells": [
  {
   "cell_type": "code",
   "execution_count": 1,
   "id": "0c5ba1fc",
   "metadata": {
    "_cell_guid": "b1076dfc-b9ad-4769-8c92-a6c4dae69d19",
    "_uuid": "8f2839f25d086af736a60e9eeb907d3b93b6e0e5",
    "execution": {
     "iopub.execute_input": "2022-04-30T13:30:56.561721Z",
     "iopub.status.busy": "2022-04-30T13:30:56.561082Z",
     "iopub.status.idle": "2022-04-30T13:30:56.682840Z",
     "shell.execute_reply": "2022-04-30T13:30:56.681980Z"
    },
    "papermill": {
     "duration": 0.134789,
     "end_time": "2022-04-30T13:30:56.685655",
     "exception": false,
     "start_time": "2022-04-30T13:30:56.550866",
     "status": "completed"
    },
    "tags": []
   },
   "outputs": [],
   "source": [
    "import pandas as pd\n",
    "\n",
    "xgb = pd.read_csv('../input/tps042022-baseline-xgboost-model-on-2500-features/submission.csv')\n",
    "lgbm = pd.read_csv('../input/tps-apr-22-lgbm-v0/submission.csv')\n",
    "lstm = pd.read_csv('../input/tps-apr-22-baseline-lstm/submission.csv')\n",
    "cnn_lstm = pd.read_csv('../input/tps-apr-22-cnn-lstm/submission.csv')\n",
    "bi_lstm = pd.read_csv('../input/tps-apr-22-bi-lstm/submission.csv')"
   ]
  },
  {
   "cell_type": "code",
   "execution_count": 2,
   "id": "995b545f",
   "metadata": {
    "execution": {
     "iopub.execute_input": "2022-04-30T13:30:56.702586Z",
     "iopub.status.busy": "2022-04-30T13:30:56.701753Z",
     "iopub.status.idle": "2022-04-30T13:30:56.709408Z",
     "shell.execute_reply": "2022-04-30T13:30:56.708127Z"
    },
    "papermill": {
     "duration": 0.018685,
     "end_time": "2022-04-30T13:30:56.711847",
     "exception": false,
     "start_time": "2022-04-30T13:30:56.693162",
     "status": "completed"
    },
    "tags": []
   },
   "outputs": [
    {
     "name": "stdout",
     "output_type": "stream",
     "text": [
      "12218 12218 12218 12218 12218\n"
     ]
    }
   ],
   "source": [
    "print(len(xgb), len(lgbm), len(lstm), len(cnn_lstm), len(bi_lstm))"
   ]
  },
  {
   "cell_type": "code",
   "execution_count": 3,
   "id": "69d88186",
   "metadata": {
    "execution": {
     "iopub.execute_input": "2022-04-30T13:30:56.729742Z",
     "iopub.status.busy": "2022-04-30T13:30:56.729367Z",
     "iopub.status.idle": "2022-04-30T13:30:56.759243Z",
     "shell.execute_reply": "2022-04-30T13:30:56.758253Z"
    },
    "papermill": {
     "duration": 0.04206,
     "end_time": "2022-04-30T13:30:56.762584",
     "exception": false,
     "start_time": "2022-04-30T13:30:56.720524",
     "status": "completed"
    },
    "tags": []
   },
   "outputs": [
    {
     "data": {
      "text/html": [
       "<div>\n",
       "<style scoped>\n",
       "    .dataframe tbody tr th:only-of-type {\n",
       "        vertical-align: middle;\n",
       "    }\n",
       "\n",
       "    .dataframe tbody tr th {\n",
       "        vertical-align: top;\n",
       "    }\n",
       "\n",
       "    .dataframe thead th {\n",
       "        text-align: right;\n",
       "    }\n",
       "</style>\n",
       "<table border=\"1\" class=\"dataframe\">\n",
       "  <thead>\n",
       "    <tr style=\"text-align: right;\">\n",
       "      <th></th>\n",
       "      <th>sequence</th>\n",
       "      <th>state</th>\n",
       "    </tr>\n",
       "  </thead>\n",
       "  <tbody>\n",
       "    <tr>\n",
       "      <th>0</th>\n",
       "      <td>25968</td>\n",
       "      <td>0.984398</td>\n",
       "    </tr>\n",
       "    <tr>\n",
       "      <th>1</th>\n",
       "      <td>25969</td>\n",
       "      <td>0.900719</td>\n",
       "    </tr>\n",
       "    <tr>\n",
       "      <th>2</th>\n",
       "      <td>25970</td>\n",
       "      <td>0.184025</td>\n",
       "    </tr>\n",
       "    <tr>\n",
       "      <th>3</th>\n",
       "      <td>25971</td>\n",
       "      <td>0.860039</td>\n",
       "    </tr>\n",
       "    <tr>\n",
       "      <th>4</th>\n",
       "      <td>25972</td>\n",
       "      <td>0.549956</td>\n",
       "    </tr>\n",
       "  </tbody>\n",
       "</table>\n",
       "</div>"
      ],
      "text/plain": [
       "   sequence     state\n",
       "0     25968  0.984398\n",
       "1     25969  0.900719\n",
       "2     25970  0.184025\n",
       "3     25971  0.860039\n",
       "4     25972  0.549956"
      ]
     },
     "execution_count": 3,
     "metadata": {},
     "output_type": "execute_result"
    }
   ],
   "source": [
    "submission = xgb.copy()\n",
    "submission['state'] = xgb['state'] * 0.3 + lgbm['state'] * 0.2 \\\n",
    "                    + lstm['state'] * 0.15 + cnn_lstm['state'] * 0.25 + bi_lstm['state'] * 0.1\n",
    "submission.head()"
   ]
  },
  {
   "cell_type": "code",
   "execution_count": 4,
   "id": "e9f2b058",
   "metadata": {
    "execution": {
     "iopub.execute_input": "2022-04-30T13:30:56.780379Z",
     "iopub.status.busy": "2022-04-30T13:30:56.779889Z",
     "iopub.status.idle": "2022-04-30T13:30:56.834117Z",
     "shell.execute_reply": "2022-04-30T13:30:56.832897Z"
    },
    "papermill": {
     "duration": 0.06645,
     "end_time": "2022-04-30T13:30:56.837107",
     "exception": false,
     "start_time": "2022-04-30T13:30:56.770657",
     "status": "completed"
    },
    "tags": []
   },
   "outputs": [],
   "source": [
    "submission.to_csv('submission.csv', index=False)"
   ]
  },
  {
   "cell_type": "code",
   "execution_count": null,
   "id": "ccb4ec57",
   "metadata": {
    "papermill": {
     "duration": 0.007477,
     "end_time": "2022-04-30T13:30:56.852872",
     "exception": false,
     "start_time": "2022-04-30T13:30:56.845395",
     "status": "completed"
    },
    "tags": []
   },
   "outputs": [],
   "source": []
  }
 ],
 "metadata": {
  "kernelspec": {
   "display_name": "Python 3",
   "language": "python",
   "name": "python3"
  },
  "language_info": {
   "codemirror_mode": {
    "name": "ipython",
    "version": 3
   },
   "file_extension": ".py",
   "mimetype": "text/x-python",
   "name": "python",
   "nbconvert_exporter": "python",
   "pygments_lexer": "ipython3",
   "version": "3.7.12"
  },
  "papermill": {
   "default_parameters": {},
   "duration": 14.279289,
   "end_time": "2022-04-30T13:30:57.886537",
   "environment_variables": {},
   "exception": null,
   "input_path": "__notebook__.ipynb",
   "output_path": "__notebook__.ipynb",
   "parameters": {},
   "start_time": "2022-04-30T13:30:43.607248",
   "version": "2.3.4"
  }
 },
 "nbformat": 4,
 "nbformat_minor": 5
}
